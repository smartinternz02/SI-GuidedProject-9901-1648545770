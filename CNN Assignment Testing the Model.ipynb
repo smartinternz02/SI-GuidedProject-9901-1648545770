{
 "cells": [
  {
   "cell_type": "code",
   "execution_count": 1,
   "id": "37919583",
   "metadata": {},
   "outputs": [],
   "source": [
    "import numpy as np\n",
    "from tensorflow.keras.models import load_model\n",
    "from tensorflow.keras.preprocessing import image"
   ]
  },
  {
   "cell_type": "code",
   "execution_count": 3,
   "id": "860b2425",
   "metadata": {},
   "outputs": [],
   "source": [
    "model=load_model('weather.h5')\n",
    "img=image.load_img(r'C:\\Users\\Navdeep Kumar\\vs code - python workspace\\SmartBridge AI\\Multi-class Weather Dataset\\Testing\\Rain\\rain208.jpg',target_size=(64,64))"
   ]
  },
  {
   "cell_type": "code",
   "execution_count": 4,
   "id": "088f942f",
   "metadata": {},
   "outputs": [
    {
     "data": {
      "image/png": "[encoded data removed]",
      "text/plain": [
       "<PIL.Image.Image image mode=RGB size=64x64 at 0x23DD55AF6A0>"
      ]
     },
     "execution_count": 4,
     "metadata": {},
     "output_type": "execute_result"
    }
   ],
   "source": [
    "img"
   ]
  },
  {
   "cell_type": "code",
   "execution_count": 5,
   "id": "cec38c07",
   "metadata": {},
   "outputs": [],
   "source": [
    "x=image.img_to_array(img)"
   ]
  },
  {
   "cell_type": "code",
   "execution_count": 6,
   "id": "90fb6c87",
   "metadata": {},
   "outputs": [
    {
     "data": {
      "text/plain": [
       "array([[[156., 163., 189.],\n",
       "        [160., 166., 192.],\n",
       "        [160., 166., 190.],\n",
       "        ...,\n",
       "        [205., 208., 243.],\n",
       "        [191., 195., 224.],\n",
       "        [194., 193., 225.]],\n",
       "\n",
       "       [[160., 164., 191.],\n",
       "        [157., 163., 185.],\n",
       "        [157., 164., 182.],\n",
       "        ...,\n",
       "        [201., 204., 239.],\n",
       "        [160., 164., 189.],\n",
       "        [193., 192., 224.]],\n",
       "\n",
       "       [[155., 161., 187.],\n",
       "        [160., 166., 190.],\n",
       "        [163., 169., 195.],\n",
       "        ...,\n",
       "        [203., 208., 238.],\n",
       "        [203., 202., 233.],\n",
       "        [197., 196., 227.]],\n",
       "\n",
       "       ...,\n",
       "\n",
       "       [[107., 123.,  84.],\n",
       "        [105., 121.,  76.],\n",
       "        [106., 115.,  84.],\n",
       "        ...,\n",
       "        [155., 140., 121.],\n",
       "        [101., 106.,  83.],\n",
       "        [114., 122., 101.]],\n",
       "\n",
       "       [[ 88., 100.,  78.],\n",
       "        [ 98., 106.,  85.],\n",
       "        [113., 116.,  89.],\n",
       "        ...,\n",
       "        [109., 116.,  98.],\n",
       "        [139., 129., 104.],\n",
       "        [135., 126., 117.]],\n",
       "\n",
       "       [[133., 141., 120.],\n",
       "        [117., 116.,  96.],\n",
       "        [ 91.,  82.,  75.],\n",
       "        ...,\n",
       "        [ 97.,  92.,  60.],\n",
       "        [106., 104.,  81.],\n",
       "        [120., 106., 106.]]], dtype=float32)"
      ]
     },
     "execution_count": 6,
     "metadata": {},
     "output_type": "execute_result"
    }
   ],
   "source": [
    "x"
   ]
  },
  {
   "cell_type": "code",
   "execution_count": 7,
   "id": "abea5d1e",
   "metadata": {},
   "outputs": [
    {
     "data": {
      "text/plain": [
       "3"
      ]
     },
     "execution_count": 7,
     "metadata": {},
     "output_type": "execute_result"
    }
   ],
   "source": [
    "x.ndim"
   ]
  },
  {
   "cell_type": "code",
   "execution_count": 8,
   "id": "230f52ad",
   "metadata": {},
   "outputs": [],
   "source": [
    "x=np.expand_dims(x,axis=0)"
   ]
  },
  {
   "cell_type": "code",
   "execution_count": 9,
   "id": "f96c82fe",
   "metadata": {},
   "outputs": [
    {
     "data": {
      "text/plain": [
       "4"
      ]
     },
     "execution_count": 9,
     "metadata": {},
     "output_type": "execute_result"
    }
   ],
   "source": [
    "x.ndim"
   ]
  },
  {
   "cell_type": "code",
   "execution_count": 10,
   "id": "31be8232",
   "metadata": {},
   "outputs": [],
   "source": [
    "import tensorflow as tf"
   ]
  },
  {
   "cell_type": "code",
   "execution_count": 11,
   "id": "7c038196",
   "metadata": {},
   "outputs": [],
   "source": [
    "pred=np.argmax(model.predict(x),axis=1)"
   ]
  },
  {
   "cell_type": "code",
   "execution_count": 12,
   "id": "fc5dbe69",
   "metadata": {},
   "outputs": [
    {
     "data": {
      "text/plain": [
       "array([2], dtype=int64)"
      ]
     },
     "execution_count": 12,
     "metadata": {},
     "output_type": "execute_result"
    }
   ],
   "source": [
    "pred"
   ]
  },
  {
   "cell_type": "code",
   "execution_count": 15,
   "id": "94880f35",
   "metadata": {},
   "outputs": [
    {
     "name": "stdout",
     "output_type": "stream",
     "text": [
      "Shine\n"
     ]
    }
   ],
   "source": [
    "index=['Cloudy','Rain','Shine','Sunrise']\n",
    "print(index[pred[0]])"
   ]
  },
  {
   "cell_type": "code",
   "execution_count": 16,
   "id": "ba88b2cc",
   "metadata": {},
   "outputs": [],
   "source": [
    "import cv2"
   ]
  },
  {
   "cell_type": "code",
   "execution_count": 17,
   "id": "a0d777ed",
   "metadata": {},
   "outputs": [],
   "source": [
    "img=cv2.imread(r'C:\\Users\\Navdeep Kumar\\vs code - python workspace\\SmartBridge AI\\Multi-class Weather Dataset\\Testing\\Rain\\rain208.jpg',1)"
   ]
  },
  {
   "cell_type": "code",
   "execution_count": 18,
   "id": "84516785",
   "metadata": {},
   "outputs": [
    {
     "data": {
      "text/plain": [
       "array([[[185, 160, 150],\n",
       "        [187, 162, 152],\n",
       "        [190, 165, 155],\n",
       "        ...,\n",
       "        [219, 187, 188],\n",
       "        [228, 196, 197],\n",
       "        [237, 205, 206]],\n",
       "\n",
       "       [[188, 163, 153],\n",
       "        [189, 164, 154],\n",
       "        [190, 165, 155],\n",
       "        ...,\n",
       "        [219, 187, 188],\n",
       "        [224, 192, 193],\n",
       "        [230, 198, 199]],\n",
       "\n",
       "       [[191, 165, 158],\n",
       "        [191, 165, 158],\n",
       "        [191, 165, 158],\n",
       "        ...,\n",
       "        [222, 190, 191],\n",
       "        [221, 189, 190],\n",
       "        [221, 189, 190]],\n",
       "\n",
       "       ...,\n",
       "\n",
       "       [[ 70,  88,  81],\n",
       "        [ 68,  84,  77],\n",
       "        [107, 123, 116],\n",
       "        ...,\n",
       "        [112, 116, 127],\n",
       "        [147, 148, 162],\n",
       "        [137, 140, 154]],\n",
       "\n",
       "       [[111, 138, 128],\n",
       "        [128, 152, 144],\n",
       "        [124, 144, 139],\n",
       "        ...,\n",
       "        [136, 139, 147],\n",
       "        [107, 109, 119],\n",
       "        [120, 122, 133]],\n",
       "\n",
       "       [[103, 135, 124],\n",
       "        [118, 145, 136],\n",
       "        [108, 130, 125],\n",
       "        ...,\n",
       "        [118, 122, 127],\n",
       "        [ 97,  98, 108],\n",
       "        [111, 111, 123]]], dtype=uint8)"
      ]
     },
     "execution_count": 18,
     "metadata": {},
     "output_type": "execute_result"
    }
   ],
   "source": [
    "img"
   ]
  },
  {
   "cell_type": "code",
   "execution_count": 19,
   "id": "3bc9230f",
   "metadata": {},
   "outputs": [],
   "source": [
    "img1=cv2.imread(r'C:\\Users\\Navdeep Kumar\\vs code - python workspace\\SmartBridge AI\\Multi-class Weather Dataset\\Testing\\Rain\\rain208.jpg',0)"
   ]
  },
  {
   "cell_type": "code",
   "execution_count": 20,
   "id": "c9a40155",
   "metadata": {},
   "outputs": [
    {
     "data": {
      "text/plain": [
       "array([[160, 162, 165, ..., 191, 200, 209],\n",
       "       [163, 164, 165, ..., 191, 196, 202],\n",
       "       [166, 166, 166, ..., 194, 193, 193],\n",
       "       ...,\n",
       "       [ 84,  80, 119, ..., 119, 152, 144],\n",
       "       [132, 147, 140, ..., 141, 112, 125],\n",
       "       [128, 139, 126, ..., 123, 101, 115]], dtype=uint8)"
      ]
     },
     "execution_count": 20,
     "metadata": {},
     "output_type": "execute_result"
    }
   ],
   "source": [
    "img1"
   ]
  },
  {
   "cell_type": "code",
   "execution_count": 21,
   "id": "27fbda52",
   "metadata": {},
   "outputs": [
    {
     "name": "stdout",
     "output_type": "stream",
     "text": [
      "(466, 800, 3)\n"
     ]
    }
   ],
   "source": [
    "print(img.shape)"
   ]
  },
  {
   "cell_type": "code",
   "execution_count": 22,
   "id": "1fe86ab7",
   "metadata": {},
   "outputs": [],
   "source": [
    "img=cv2.imread(r'C:\\Users\\Navdeep Kumar\\vs code - python workspace\\SmartBridge AI\\Multi-class Weather Dataset\\Testing\\Rain\\rain208.jpg',1)\n",
    "cv2.imshow('image',img)\n",
    "cv2.waitKey(0)\n",
    "cv2.destroyAllWindows()"
   ]
  },
  {
   "cell_type": "code",
   "execution_count": null,
   "id": "c506a9ec",
   "metadata": {},
   "outputs": [],
   "source": [
    "import cv2\n",
    "import numpy as np\n",
    "from tensorflow.keras.models import load_model\n",
    "from tensorflow.keras.preprocessing import image\n",
    "model=load_model('weather.h5')\n",
    "video=cv2.VideoCapture(0)\n",
    "index=['Cloudy','Rain','Shine','Sunrise']\n",
    "while 1:\n",
    "    succes,frame=video.read()\n",
    "    cv2.imwrite('image.jpg',frame)\n",
    "    img=image.load_img('image.jpg',target_size=(64,64))\n",
    "    x=image.img_to_array(img)\n",
    "    x=np.expand_dims(x,axis=0)\n",
    "    pred=np.argmax(model.predict(x),axis=1)\n",
    "    y=pred[0]\n",
    "    cv2.putText(frame,'The predicted weather is : '+str(index[y]),(100,100),cv2.FONT_HERSHEY_SIMPLEX,1,(0,0,0),4)\n",
    "    cv2.imshow('image',frame)\n",
    "    if cv2.waitKey(1) & 0xFF == ord('q'):\n",
    "        break\n",
    "video.release()\n",
    "cv2.destroyAllWindows()"
   ]
  },
  {
   "cell_type": "code",
   "execution_count": null,
   "id": "25fa8875",
   "metadata": {},
   "outputs": [],
   "source": []
  }
 ],
 "metadata": {
  "kernelspec": {
   "display_name": "Python 3 (ipykernel)",
   "language": "python",
   "name": "python3"
  },
  "language_info": {
   "codemirror_mode": {
    "name": "ipython",
    "version": 3
   },
   "file_extension": ".py",
   "mimetype": "text/x-python",
   "name": "python",
   "nbconvert_exporter": "python",
   "pygments_lexer": "ipython3",
   "version": "3.9.7"
  }
 },
 "nbformat": 4,
 "nbformat_minor": 5
}
