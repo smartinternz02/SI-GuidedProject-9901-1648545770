{
 "cells": [
  {
   "cell_type": "code",
   "execution_count": 1,
   "id": "9e50e206",
   "metadata": {},
   "outputs": [],
   "source": [
    "from tensorflow.keras.preprocessing.image import ImageDataGenerator"
   ]
  },
  {
   "cell_type": "code",
   "execution_count": 2,
   "id": "6fe076bc",
   "metadata": {},
   "outputs": [],
   "source": [
    "train_datagen = ImageDataGenerator(rescale=1/255,zoom_range=0.2,horizontal_flip=True,vertical_flip=False)"
   ]
  },
  {
   "cell_type": "code",
   "execution_count": 4,
   "id": "1fbd35cd",
   "metadata": {},
   "outputs": [],
   "source": [
    "test_datagen=ImageDataGenerator(rescale=1/255)"
   ]
  },
  {
   "cell_type": "code",
   "execution_count": 6,
   "id": "200485ae",
   "metadata": {},
   "outputs": [
    {
     "name": "stdout",
     "output_type": "stream",
     "text": [
      "Found 936 images belonging to 4 classes.\n"
     ]
    }
   ],
   "source": [
    "x_train=train_datagen.flow_from_directory(r'C:\\Users\\Navdeep Kumar\\vs code - python workspace\\SmartBridge AI\\Multi-class Weather Dataset\\Training',target_size=(64,64),class_mode='categorical',batch_size=100)"
   ]
  },
  {
   "cell_type": "code",
   "execution_count": 7,
   "id": "e9708188",
   "metadata": {},
   "outputs": [
    {
     "data": {
      "text/plain": [
       "10"
      ]
     },
     "execution_count": 7,
     "metadata": {},
     "output_type": "execute_result"
    }
   ],
   "source": [
    "len(x_train)"
   ]
  },
  {
   "cell_type": "raw",
   "id": "9f877b01",
   "metadata": {},
   "source": [
    "936/100 = 10"
   ]
  },
  {
   "cell_type": "code",
   "execution_count": 9,
   "id": "2b4f3450",
   "metadata": {},
   "outputs": [
    {
     "name": "stdout",
     "output_type": "stream",
     "text": [
      "Found 189 images belonging to 4 classes.\n"
     ]
    }
   ],
   "source": [
    "x_test=test_datagen.flow_from_directory(r'C:\\Users\\Navdeep Kumar\\vs code - python workspace\\SmartBridge AI\\Multi-class Weather Dataset\\Testing',target_size=(64,64),class_mode='categorical',batch_size=32)"
   ]
  },
  {
   "cell_type": "code",
   "execution_count": 10,
   "id": "efb6fc79",
   "metadata": {},
   "outputs": [
    {
     "data": {
      "text/plain": [
       "{'Cloudy': 0, 'Rain': 1, 'Shine': 2, 'Sunrise': 3}"
      ]
     },
     "execution_count": 10,
     "metadata": {},
     "output_type": "execute_result"
    }
   ],
   "source": [
    "x_train.class_indices"
   ]
  },
  {
   "cell_type": "code",
   "execution_count": 11,
   "id": "bf442602",
   "metadata": {},
   "outputs": [],
   "source": [
    "from tensorflow.keras.models import Sequential\n",
    "from tensorflow.keras.layers import Convolution2D,MaxPooling2D,Flatten,Dense"
   ]
  },
  {
   "cell_type": "code",
   "execution_count": 12,
   "id": "8bbd066e",
   "metadata": {},
   "outputs": [],
   "source": [
    "model=Sequential()"
   ]
  },
  {
   "cell_type": "code",
   "execution_count": 13,
   "id": "a50820ff",
   "metadata": {},
   "outputs": [],
   "source": [
    "model.add(Convolution2D(32,(3,3),activation='relu',input_shape=(64,64,3)))"
   ]
  },
  {
   "cell_type": "code",
   "execution_count": 14,
   "id": "312c17b6",
   "metadata": {},
   "outputs": [],
   "source": [
    "model.add(MaxPooling2D(pool_size=(2,2)))"
   ]
  },
  {
   "cell_type": "code",
   "execution_count": 15,
   "id": "beddbb5b",
   "metadata": {},
   "outputs": [],
   "source": [
    "model.add(Flatten())"
   ]
  },
  {
   "cell_type": "code",
   "execution_count": 16,
   "id": "5c6f80d6",
   "metadata": {},
   "outputs": [],
   "source": [
    "model.add(Dense(300,activation='relu'))"
   ]
  },
  {
   "cell_type": "code",
   "execution_count": 17,
   "id": "e1015f90",
   "metadata": {},
   "outputs": [],
   "source": [
    "model.add(Dense(150,activation='relu'))"
   ]
  },
  {
   "cell_type": "code",
   "execution_count": 18,
   "id": "9db2307a",
   "metadata": {},
   "outputs": [],
   "source": [
    "model.add(Dense(4,activation='softmax'))"
   ]
  },
  {
   "cell_type": "code",
   "execution_count": 23,
   "id": "70cd0346",
   "metadata": {},
   "outputs": [],
   "source": [
    "model.compile(loss='categorical_crossentropy',optimizer='adam',metrics=['accuracy'])"
   ]
  },
  {
   "cell_type": "code",
   "execution_count": 24,
   "id": "c391354a",
   "metadata": {},
   "outputs": [
    {
     "name": "stderr",
     "output_type": "stream",
     "text": [
      "C:\\Users\\NAVDEE~1\\AppData\\Local\\Temp/ipykernel_9996/234118701.py:1: UserWarning: `Model.fit_generator` is deprecated and will be removed in a future version. Please use `Model.fit`, which supports generators.\n",
      "  model.fit_generator(x_train,steps_per_epoch=len(x_train),epochs=10,validation_data=x_test,validation_steps=len(x_test))\n"
     ]
    },
    {
     "name": "stdout",
     "output_type": "stream",
     "text": [
      "Epoch 1/10\n",
      "10/10 [==============================] - 22s 2s/step - loss: 1.5570 - accuracy: 0.5545 - val_loss: 0.6941 - val_accuracy: 0.7196\n",
      "Epoch 2/10\n",
      "10/10 [==============================] - 20s 2s/step - loss: 0.6446 - accuracy: 0.7340 - val_loss: 0.4631 - val_accuracy: 0.8307\n",
      "Epoch 3/10\n",
      "10/10 [==============================] - 18s 2s/step - loss: 0.4958 - accuracy: 0.8013 - val_loss: 0.4479 - val_accuracy: 0.8413\n",
      "Epoch 4/10\n",
      "10/10 [==============================] - 19s 2s/step - loss: 0.4554 - accuracy: 0.8120 - val_loss: 0.4264 - val_accuracy: 0.8360\n",
      "Epoch 5/10\n",
      "10/10 [==============================] - 19s 2s/step - loss: 0.3933 - accuracy: 0.8526 - val_loss: 0.3556 - val_accuracy: 0.9048\n",
      "Epoch 6/10\n",
      "10/10 [==============================] - 19s 2s/step - loss: 0.3450 - accuracy: 0.8739 - val_loss: 0.4353 - val_accuracy: 0.8519\n",
      "Epoch 7/10\n",
      "10/10 [==============================] - 19s 2s/step - loss: 0.3281 - accuracy: 0.8793 - val_loss: 0.4864 - val_accuracy: 0.8413\n",
      "Epoch 8/10\n",
      "10/10 [==============================] - 19s 2s/step - loss: 0.3334 - accuracy: 0.8622 - val_loss: 0.4395 - val_accuracy: 0.8307\n",
      "Epoch 9/10\n",
      "10/10 [==============================] - 19s 2s/step - loss: 0.2971 - accuracy: 0.8910 - val_loss: 0.3365 - val_accuracy: 0.8995\n",
      "Epoch 10/10\n",
      "10/10 [==============================] - 18s 2s/step - loss: 0.2617 - accuracy: 0.9049 - val_loss: 0.3255 - val_accuracy: 0.9312\n"
     ]
    },
    {
     "data": {
      "text/plain": [
       "<keras.callbacks.History at 0x1dfb8fcfa00>"
      ]
     },
     "execution_count": 24,
     "metadata": {},
     "output_type": "execute_result"
    }
   ],
   "source": [
    "model.fit_generator(x_train,steps_per_epoch=len(x_train),epochs=10,validation_data=x_test,validation_steps=len(x_test))"
   ]
  },
  {
   "cell_type": "code",
   "execution_count": 25,
   "id": "7872fe07",
   "metadata": {},
   "outputs": [],
   "source": [
    "model.save('weather.h5')"
   ]
  },
  {
   "cell_type": "code",
   "execution_count": null,
   "id": "7708bf68",
   "metadata": {},
   "outputs": [],
   "source": []
  }
 ],
 "metadata": {
  "kernelspec": {
   "display_name": "Python 3 (ipykernel)",
   "language": "python",
   "name": "python3"
  },
  "language_info": {
   "codemirror_mode": {
    "name": "ipython",
    "version": 3
   },
   "file_extension": ".py",
   "mimetype": "text/x-python",
   "name": "python",
   "nbconvert_exporter": "python",
   "pygments_lexer": "ipython3",
   "version": "3.9.7"
  }
 },
 "nbformat": 4,
 "nbformat_minor": 5
}
